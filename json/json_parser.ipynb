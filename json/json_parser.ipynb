{
 "cells": [
  {
   "cell_type": "code",
   "execution_count": 30,
   "outputs": [],
   "source": [
    "def find_in_db(text: str) -> int:\n",
    "    return -1\n",
    "\n",
    "def set_node_id(node: dict, last_id: int, arr: []) -> int:\n",
    "    if 'question' in node:\n",
    "        last_id = last_id + 1\n",
    "        node['question']['id'] = last_id\n",
    "        arr.append((last_id, node['question']['text']))\n",
    "        last_id = set_node_id(node['question']['yes'], last_id, arr)\n",
    "        last_id = set_node_id(node['question']['no'], last_id, arr)\n",
    "        return last_id\n",
    "    else:\n",
    "        text = node['diagnosis']['text']\n",
    "        diagnosis_id = find_in_db(text)\n",
    "        if diagnosis_id == -1:\n",
    "            node['diagnosis']['id'] = last_id + 1\n",
    "            arr.append((last_id + 1, node['diagnosis']['text']))\n",
    "            return last_id + 1\n",
    "        else:\n",
    "            node['diagnosis']['id'] = diagnosis_id\n",
    "            arr.append((last_id, node['diagnosis']['text']))\n",
    "            return last_id\n",
    "\n",
    "def get_last_id() -> int:\n",
    "    return 142\n",
    "\n",
    "\n",
    "def create_insert_values(node: dict, arr: []):\n",
    "    if 'question' in node:\n",
    "        yes_type = list(node['question']['yes'].keys())[0]\n",
    "        no_type =  list(node['question']['no'].keys())[0]\n",
    "        arr.append(\n",
    "            (node['question']['id'],\n",
    "             node['question']['text'],\n",
    "             node['question']['yes'][yes_type]['id'],\n",
    "             node['question']['no'][no_type]['id'])\n",
    "        )\n",
    "        create_insert_values(node['question']['yes'], arr)\n",
    "        create_insert_values(node['question']['no'], arr)\n",
    "    else:\n",
    "        arr.append(\n",
    "            (node['diagnosis']['id'],\n",
    "             node['diagnosis']['text'],\n",
    "             'null',\n",
    "             'null',\n",
    "             node['diagnosis']['doc'],\n",
    "             node['diagnosis']['description']\n",
    "             )\n",
    "        )\n",
    "\n",
    "def create_inserts(file: dict) -> str:\n",
    "    result = []\n",
    "    to_remove = {}\n",
    "    page_id = file['page']['id']\n",
    "    page_text = file['page']['page_name']\n",
    "    create_insert_values(file['page']['tree'], result)\n",
    "\n",
    "    # исключим повторения\n",
    "    counter = {}\n",
    "    for elem in [text[1] for text in result]:\n",
    "        counter[elem] = counter.get(elem, 0) + 1\n",
    "    doubles = {element: count for element, count in counter.items() if count > 1}\n",
    "    for repeat in doubles:\n",
    "        arr = [elem for elem in result if elem[1] == repeat]\n",
    "        main_elem = arr[0]\n",
    "        to_remove[main_elem[0]] = []\n",
    "        for i in range(1, len(arr)):\n",
    "            to_remove[main_elem[0]].append(arr[i][0])\n",
    "            result.remove(arr[i])\n",
    "\n",
    "    # создаем строку\n",
    "    result_str = f\"INSERT INTO main_tree VALUES({page_id}, '{page_text}', {result[0][0]}, {result[0][0]});\\n\"\n",
    "    for elem in result:\n",
    "        if len(elem) == 4:\n",
    "            result_str += f\"INSERT INTO main_tree VALUES({elem[0]}, '{elem[1]}', {elem[2]}, {elem[3]});\\n\"\n",
    "        else:\n",
    "            result_str += f\"INSERT INTO main_tree VALUES({elem[0]}, '{elem[1]}', {elem[2]}, {elem[3]}, '{elem[4]}', '{elem[5]}');\\n\"\n",
    "\n",
    "    # меняем индексы родителей в строке\n",
    "    for elem in to_remove:\n",
    "        for old_elem in to_remove[elem]:\n",
    "            result_str = result_str.replace(str(old_elem), str(elem))\n",
    "    return result_str\n",
    "\n",
    "\n",
    "def parse(file: dict):\n",
    "    last_id = get_last_id()\n",
    "    file['page']['id'] = last_id + 1\n",
    "    result = []\n",
    "    set_node_id(file['page']['tree'], last_id + 1, result)\n",
    "    result1 = create_inserts(file)\n",
    "    return result1\n",
    "\n"
   ],
   "metadata": {
    "collapsed": false,
    "pycharm": {
     "name": "#%%\n"
    }
   }
  },
  {
   "cell_type": "code",
   "execution_count": 32,
   "metadata": {
    "collapsed": true,
    "pycharm": {
     "name": "#%%\n"
    }
   },
   "outputs": [],
   "source": [
    "import json\n",
    "\n",
    "\n",
    "with open(\"1.json\", \"r\", encoding='utf8') as read_file:\n",
    "    b: {} = json.load(read_file)\n",
    "\n",
    "a = parse(b)\n",
    "\n",
    "with open(\"result.txt\", \"w\", encoding='utf8') as file:\n",
    "    file.write(a)"
   ]
  },
  {
   "cell_type": "code",
   "execution_count": null,
   "outputs": [],
   "source": [],
   "metadata": {
    "collapsed": false,
    "pycharm": {
     "name": "#%%\n"
    }
   }
  }
 ],
 "metadata": {
  "kernelspec": {
   "display_name": "Python 3",
   "language": "python",
   "name": "python3"
  },
  "language_info": {
   "codemirror_mode": {
    "name": "ipython",
    "version": 2
   },
   "file_extension": ".py",
   "mimetype": "text/x-python",
   "name": "python",
   "nbconvert_exporter": "python",
   "pygments_lexer": "ipython2",
   "version": "2.7.6"
  }
 },
 "nbformat": 4,
 "nbformat_minor": 0
}