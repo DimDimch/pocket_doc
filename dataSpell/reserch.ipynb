{
 "cells": [
  {
   "cell_type": "code",
   "execution_count": 2,
   "metadata": {
    "collapsed": true
   },
   "outputs": [],
   "source": [
    "import pandas as pd\n",
    "import numpy as np\n",
    "import plotly.express as px\n",
    "import matplotlib as mpl"
   ]
  },
  {
   "cell_type": "code",
   "execution_count": 3,
   "outputs": [],
   "source": [
    "dataset=pd.read_csv(\"dataset.csv\")\n",
    "severity=pd.read_csv(\"Symptom-severity.csv\")\n",
    "description=pd.read_csv(\"symptom_Description.csv\")\n",
    "precaution=pd.read_csv(\"symptom_precaution.csv\")"
   ],
   "metadata": {
    "collapsed": false,
    "pycharm": {
     "name": "#%%\n"
    }
   }
  },
  {
   "cell_type": "markdown",
   "source": [
    "# Проблема\n",
    "у нас присутствуют редкие заболевания, поэтому возможна ситуация: Парень 12 лет заходит узнать про прыщи и не правильно отвечает в одном вопросе, и мы даём ответ что у него ветренная оспа, дальше он выходит из окна чтоб не заразить семью, или себя сжигает.(((((\n",
    "# Решение\n",
    "Найти статистику по количеству заболевших и добавить её в данные как обратную величину, которая будет штрафом за редкие болезни"
   ],
   "metadata": {
    "collapsed": false,
    "pycharm": {
     "name": "#%% md\n"
    }
   }
  },
  {
   "cell_type": "markdown",
   "source": [
    "# плюсы датасета\n",
    "1)болезней 42, среди них полавина популярных\n",
    "2)есть веса симптомов (кома 7, зуд 1)\n",
    "3)есть описание болезней"
   ],
   "metadata": {
    "collapsed": false,
    "pycharm": {
     "name": "#%% md\n"
    }
   }
  },
  {
   "cell_type": "code",
   "execution_count": null,
   "outputs": [],
   "source": [],
   "metadata": {
    "collapsed": false,
    "pycharm": {
     "name": "#%%\n"
    }
   }
  }
 ],
 "metadata": {
  "kernelspec": {
   "display_name": "Python 3",
   "language": "python",
   "name": "python3"
  },
  "language_info": {
   "codemirror_mode": {
    "name": "ipython",
    "version": 2
   },
   "file_extension": ".py",
   "mimetype": "text/x-python",
   "name": "python",
   "nbconvert_exporter": "python",
   "pygments_lexer": "ipython2",
   "version": "2.7.6"
  }
 },
 "nbformat": 4,
 "nbformat_minor": 0
}