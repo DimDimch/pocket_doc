{
 "cells": [
  {
   "cell_type": "code",
   "execution_count": 1,
   "outputs": [],
   "source": [
    "import pandas as pd\n",
    "import xml.etree.ElementTree as ET\n",
    "import csv"
   ],
   "metadata": {
    "collapsed": false,
    "pycharm": {
     "name": "#%%\n"
    }
   }
  },
  {
   "cell_type": "code",
   "execution_count": 2,
   "outputs": [],
   "source": [
    "def is_in_terms_list(term: ET.Element, terms_list: list):\n",
    "    for cur in terms_list:\n",
    "        if term[1].text == cur:\n",
    "            return True\n",
    "    return False"
   ],
   "metadata": {
    "collapsed": false,
    "pycharm": {
     "name": "#%%\n"
    }
   }
  },
  {
   "cell_type": "code",
   "execution_count": 4,
   "outputs": [],
   "source": [
    "def correct_description(description):\n",
    "    description = description.replace('\\n','')\n",
    "    description = description.rstrip(' ')\n",
    "    return description"
   ],
   "metadata": {
    "collapsed": false,
    "pycharm": {
     "name": "#%%\n"
    }
   }
  },
  {
   "cell_type": "code",
   "execution_count": 16,
   "outputs": [],
   "source": [
    "def xml_parsing(input_file_name, output_file_name, terms_list, delimiter):\n",
    "    found_count = 0\n",
    "    terms_num = len(terms_list)\n",
    "    with open(output_file_name, mode=\"w\", encoding='utf-8') as output_file:\n",
    "        file_writer = csv.writer(output_file, delimiter = delimiter, lineterminator=\"\\r\")\n",
    "        file_writer.writerow([\"Sep = \\\\t\"])\n",
    "        file_writer.writerow([\"MeSH Term\", \"Description\", \"Synonyms\"])\n",
    "        for event, elem in ET.iterparse(input_file_name):\n",
    "            if elem.tag == 'DescriptorRecord':\n",
    "                descriptor_record_elem = elem\n",
    "                concept_list_elem = descriptor_record_elem.find('ConceptList')\n",
    "                for concept in concept_list_elem.findall('Concept'):\n",
    "                    scope_note_elem = concept.find('ScopeNote')\n",
    "                    term_list_elem = concept.find('TermList')\n",
    "                    MeSH_term = None\n",
    "                    description = None\n",
    "                    synonyms = []\n",
    "                    found = False\n",
    "                    for term in term_list_elem.findall('Term'):\n",
    "                        synonyms.append(term[1].text)\n",
    "                        if is_in_terms_list(term, terms_list):\n",
    "                            found = True\n",
    "                            MeSH_term = term[1].text\n",
    "                            synonyms.pop()\n",
    "                            if scope_note_elem is not None:\n",
    "                                description = correct_description(scope_note_elem.text)\n",
    "                            else:\n",
    "                                description = 'Description is missing'\n",
    "\n",
    "                    if found:\n",
    "                        found_count += 1\n",
    "                        if len(synonyms) == 0:\n",
    "                            synonyms = ['Synonyms are missing','']\n",
    "                        # print('term =', MeSH_term)\n",
    "                        # print('Description = ',description)\n",
    "                        # print('Synonyms: ', synonyms)\n",
    "                        file_writer.writerow([MeSH_term, description, *synonyms])\n",
    "\n",
    "                    if found_count == terms_num:\n",
    "                            break\n",
    "            else:\n",
    "                continue"
   ],
   "metadata": {
    "collapsed": false,
    "pycharm": {
     "name": "#%%\n"
    }
   }
  },
  {
   "cell_type": "code",
   "execution_count": 6,
   "outputs": [],
   "source": [
    "data_1 = pd.read_csv('data1.csv', delimiter='\\t')\n",
    "disease_list = data_1['MeSH Disease Term'].to_list()\n",
    "xml_parsing(\"desc2022.xml\",\"data_1_disease_description_synonyms_raw.csv\", disease_list, '\\t')"
   ],
   "metadata": {
    "collapsed": false,
    "pycharm": {
     "name": "#%%\n"
    }
   }
  },
  {
   "cell_type": "code",
   "execution_count": 20,
   "outputs": [],
   "source": [
    "data_2 = pd.read_csv('data2.csv', delimiter='\\t')\n",
    "symptom_list = data_2['MeSH Symptom Term'].to_list()\n",
    "xml_parsing(\"desc2022.xml\",\"data_2_symptom_description_synonyms_raw.csv\", symptom_list, '\\t')"
   ],
   "metadata": {
    "collapsed": false,
    "pycharm": {
     "name": "#%%\n"
    }
   }
  }
 ],
 "metadata": {
  "kernelspec": {
   "display_name": "Python 3",
   "language": "python",
   "name": "python3"
  },
  "language_info": {
   "codemirror_mode": {
    "name": "ipython",
    "version": 2
   },
   "file_extension": ".py",
   "mimetype": "text/x-python",
   "name": "python",
   "nbconvert_exporter": "python",
   "pygments_lexer": "ipython2",
   "version": "2.7.6"
  }
 },
 "nbformat": 4,
 "nbformat_minor": 0
}